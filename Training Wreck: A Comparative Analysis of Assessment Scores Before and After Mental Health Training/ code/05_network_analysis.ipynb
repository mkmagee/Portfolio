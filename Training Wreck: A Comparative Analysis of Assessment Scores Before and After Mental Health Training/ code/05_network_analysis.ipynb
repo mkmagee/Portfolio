{
 "cells": [
  {
   "cell_type": "code",
   "execution_count": 1,
   "id": "8323c29f-bb9a-41cf-aa91-65190273e897",
   "metadata": {},
   "outputs": [],
   "source": [
    "#import packages\n",
    "import pandas as pd\n",
    "import numpy as np\n",
    "import random\n",
    "import re\n",
    "import string\n",
    "#import requests\n",
    "#import plotnine \n",
    "#from plotnine import *\n",
    "import matplotlib.pyplot as plt\n",
    "import seaborn as sns\n",
    "import scipy.stats as stats\n",
    "\n",
    "#may need to pip install first\n",
    "#!pip install netwulf\n",
    "from netwulf import visualize\n",
    "import netwulf as nw\n",
    "import networkx as nx\n"
   ]
  },
  {
   "cell_type": "markdown",
   "id": "a24f9fa1-a06a-4b58-a811-3694e1759e12",
   "metadata": {},
   "source": [
    "# Data Prep"
   ]
  },
  {
   "cell_type": "markdown",
   "id": "8be30d25-12e6-4529-a5fb-62dbb3569d89",
   "metadata": {},
   "source": [
    "## Load in Data"
   ]
  },
  {
   "cell_type": "code",
   "execution_count": 2,
   "id": "b093fff5-3761-4bff-972b-35284789f728",
   "metadata": {},
   "outputs": [],
   "source": [
    "# Define the file path\n",
    "pre_file_path = '../code/data/Med student pre assessment 2.8.23.csv'\n",
    "foundational_file_path = '../code/data/Foundational Post Assessment 2.8.23.csv'\n",
    "intermediate_file_path = '../code/data/intermediate post assessment 2.8.23.csv'\n",
    "advanced_file_path = '../code/data/Advanced post assessment 2.8.23.csv'\n",
    "\n",
    "# Load the datasets using pandas\n",
    "pre_data = pd.read_csv(pre_file_path)\n",
    "post_data_foundational = pd.read_csv(foundational_file_path,skiprows =lambda x: x in [1,2])\n",
    "post_data_intermediate = pd.read_csv(intermediate_file_path,skiprows =lambda x: x in [1,2])\n",
    "post_data_advanced = pd.read_csv(advanced_file_path,skiprows =lambda x: x in [1,2])\n"
   ]
  },
  {
   "cell_type": "markdown",
   "id": "865b82ac-1909-49bf-8ab0-6f23e1e02b49",
   "metadata": {},
   "source": [
    "## Merge Data"
   ]
  },
  {
   "cell_type": "code",
   "execution_count": 3,
   "id": "1e55a2e6-4fbf-4360-af5c-9f832c7f43bc",
   "metadata": {},
   "outputs": [],
   "source": [
    "#merge pre to foundational post, where scox = pre score, scoy = post score\n",
    "joined_data_foundational = pd.merge(post_data_foundational, pre_data, on = \"IPAddress\", how = \"left\")\n",
    "joined_data_intermediate = pd.merge(post_data_intermediate, pre_data, on = \"IPAddress\", how = \"left\")\n",
    "joined_data_advanced = pd.merge(post_data_advanced, pre_data, on = \"IPAddress\", how = \"left\")\n"
   ]
  },
  {
   "cell_type": "markdown",
   "id": "5820bcc1-86a9-4971-b7a1-03d8b0cee8a0",
   "metadata": {},
   "source": [
    "## Rename columns"
   ]
  },
  {
   "cell_type": "code",
   "execution_count": 4,
   "id": "f8029a90-4b8f-43a6-85fc-c30da1f205b7",
   "metadata": {},
   "outputs": [],
   "source": [
    "#renaming the columns, SC0y = pre, SC0x = post for clarity:\n",
    "foundational_data = joined_data_foundational.rename(columns={'SC0_y':'Pre', 'SC0_x':'Post'})\n",
    "#drop missing data from Pre and Post\n",
    "foundational_data = foundational_data.dropna(subset=['Pre', 'Post'])\n",
    "\n",
    "#do the same for two other cohorts\n",
    "intermediate_data = joined_data_intermediate.rename(columns={'SC0_y':'Pre', 'SC0_x':'Post'})\n",
    "intermediate_data = intermediate_data.dropna(subset=['Pre', 'Post'])\n",
    "\n",
    "advanced_data = joined_data_advanced.rename(columns={'SC0_y':'Pre', 'SC0_x':'Post'})\n",
    "advanced_data = advanced_data.dropna(subset=['Pre', 'Post'])"
   ]
  },
  {
   "cell_type": "markdown",
   "id": "bf6fa259-85b6-424f-8a0c-0bf3dc72df9e",
   "metadata": {},
   "source": [
    "## Data prep for Network Visualization:"
   ]
  },
  {
   "cell_type": "code",
   "execution_count": 5,
   "id": "d4709e0d-0b19-478c-85a3-53190fdcb5f6",
   "metadata": {},
   "outputs": [],
   "source": [
    "#add a column called advanced for advanced_df\n",
    "post_data_advanced['advanced'] = 1\n",
    "#add a column called intermediate for intermediate_df\n",
    "post_data_intermediate['intermediate'] = 1\n",
    "#add a column called foundational for foundational_df\n",
    "post_data_foundational['foundational'] = 1"
   ]
  },
  {
   "cell_type": "code",
   "execution_count": 6,
   "id": "760102e4-5733-4bcf-b40a-a6f435e0abc0",
   "metadata": {},
   "outputs": [],
   "source": [
    "#combine all three dataframes\n",
    "combined_df = pd.concat([post_data_advanced, post_data_intermediate, post_data_foundational], ignore_index=True)\n",
    "\n",
    "#fill NaN values in the 'advanced', 'intermediate', and 'foundational' columns with 0\n",
    "combined_df['advanced'] = combined_df['advanced'].fillna(0)\n",
    "combined_df['intermediate'] = combined_df['intermediate'].fillna(0)\n",
    "combined_df['foundational'] = combined_df['foundational'].fillna(0)"
   ]
  },
  {
   "cell_type": "code",
   "execution_count": 7,
   "id": "bf3c2ebd-ae43-46f0-94c2-577da7dcd0d0",
   "metadata": {},
   "outputs": [],
   "source": [
    "#assign quartiles to the sc0\n",
    "combined_df['quartile'] = pd.qcut(combined_df['SC0'], 4, labels=False)\n",
    "\n",
    "#define the conditions\n",
    "conditions = [\n",
    "    combined_df['advanced'] == 1,\n",
    "    combined_df['intermediate'] == 1,\n",
    "    combined_df['foundational'] == 1\n",
    "]\n",
    "\n",
    "#define the choices corresponding to each condition\n",
    "choices = ['advanced', 'intermediate', 'foundational']\n",
    "\n",
    "#create the 'cohort' column using np.select to apply these conditions and choices\n",
    "combined_df['cohort'] = np.select(conditions, choices, default='unknown')\n"
   ]
  },
  {
   "cell_type": "markdown",
   "id": "0f1bd819-a54a-44fa-a360-d2024f248df0",
   "metadata": {},
   "source": [
    "## Code for Network Visualization"
   ]
  },
  {
   "cell_type": "code",
   "execution_count": 8,
   "id": "aed2b349-e3af-4f06-b523-32ed449879d3",
   "metadata": {},
   "outputs": [],
   "source": [
    "# Creating the graph\n",
    "G = nx.Graph()\n",
    "for idx, row in combined_df.iterrows():\n",
    "    G.add_node(str(idx) + \"Q\" + str(row['quartile']), quartile=row['quartile'], cohort=row['cohort'])\n",
    "    for idx1, data1 in G.nodes(data=True):\n",
    "        for idx2, data2 in G.nodes(data=True):\n",
    "            if idx1 != idx2 and data1['quartile'] == data2['quartile']:\n",
    "                G.add_edge(idx1, idx2)\n",
    "\n",
    "# Assign node colors based on cohort\n",
    "color_map = {\n",
    "    'advanced': '#8ac926',\n",
    "    'intermediate': '#ffca3a',\n",
    "    'foundational': '#ff595e'\n",
    "}\n",
    "nx.set_node_attributes(G, {idx: color_map[data['cohort']] for idx, data in G.nodes(data=True)}, 'color')\n",
    "\n",
    "#visualize the network\n",
    "pos = nx.spring_layout(G, k=0.25, iterations=20)\n",
    "plt.figure(figsize=(10, 10))\n",
    "nx.draw_networkx(G, pos, node_color=[data['color'] for _, data in G.nodes(data=True)], with_labels=False, node_size=50, edge_color=\"grey\")\n",
    "\n",
    "#create a legend for the cohorts\n",
    "legend_labels = {\"Advanced\": \"#8ac926\", \"Intermediate\": \"#ffca3a\", \"Foundational\": \"#ff595e\"}\n",
    "for label, color in legend_labels.items():\n",
    "    plt.scatter([], [], color=color, label=label)\n",
    "\n",
    "#add labels and titles\n",
    "plt.title('Network Visualization')\n",
    "plt.legend(title=\"Cohort\", loc=\"upper left\")\n",
    "plt.close()\n"
   ]
  },
  {
   "cell_type": "code",
   "execution_count": 9,
   "id": "c6021c75-6afd-4548-9c48-2673c746c3c0",
   "metadata": {},
   "outputs": [],
   "source": [
    "#visualize the network with Netwulf, configuring colors by cohort\n",
    "stylized_network, config = visualize(G, config={'node_color': 'color'}, port=2000)"
   ]
  },
  {
   "cell_type": "code",
   "execution_count": null,
   "id": "8b1275ce-9b53-417e-ae50-a87fdaf0bf1d",
   "metadata": {},
   "outputs": [],
   "source": [
    "#code to save plot\n",
    "pos = nx.spring_layout(G, k=0.25, iterations=20)\n",
    "plt.figure(figsize=(10, 10))\n",
    "nx.draw_networkx(G, pos, node_color=[data['color'] for _, data in G.nodes(data=True)], with_labels=False, node_size=50, edge_color=\"grey\")\n",
    "plt.title('Network Visualization')\n",
    "plt.legend(title=\"Cohort\", loc=\"upper left\")\n",
    "plt.savefig('network_visualization.png')\n",
    "plt.close()"
   ]
  }
 ],
 "metadata": {
  "kernelspec": {
   "display_name": "Python 3 (ipykernel)",
   "language": "python",
   "name": "python3"
  },
  "language_info": {
   "codemirror_mode": {
    "name": "ipython",
    "version": 3
   },
   "file_extension": ".py",
   "mimetype": "text/x-python",
   "name": "python",
   "nbconvert_exporter": "python",
   "pygments_lexer": "ipython3",
   "version": "3.11.7"
  }
 },
 "nbformat": 4,
 "nbformat_minor": 5
}
