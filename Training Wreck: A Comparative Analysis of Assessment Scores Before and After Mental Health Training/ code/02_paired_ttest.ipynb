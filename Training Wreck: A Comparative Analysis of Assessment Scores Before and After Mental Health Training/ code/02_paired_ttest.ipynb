{
 "cells": [
  {
   "cell_type": "code",
   "execution_count": 2,
   "id": "8323c29f-bb9a-41cf-aa91-65190273e897",
   "metadata": {},
   "outputs": [],
   "source": [
    "#import packages\n",
    "import pandas as pd\n",
    "import numpy as np\n",
    "import random\n",
    "import re\n",
    "import string\n",
    "#import requests\n",
    "#import plotnine \n",
    "#from plotnine import *\n",
    "import matplotlib.pyplot as plt\n",
    "import seaborn as sns\n",
    "import scipy.stats as stats\n",
    "\n",
    "#may need to pip install first\n",
    "#!pip install netwulf\n",
    "from netwulf import visualize\n",
    "import netwulf as nw\n",
    "import networkx as nx\n"
   ]
  },
  {
   "cell_type": "markdown",
   "id": "a24f9fa1-a06a-4b58-a811-3694e1759e12",
   "metadata": {},
   "source": [
    "# Data Prep"
   ]
  },
  {
   "cell_type": "code",
   "execution_count": 3,
   "id": "b093fff5-3761-4bff-972b-35284789f728",
   "metadata": {},
   "outputs": [],
   "source": [
    "# Define the file path\n",
    "pre_file_path = '../code/data/Med student pre assessment 2.8.23.csv'\n",
    "foundational_file_path = '../code/data/Foundational Post Assessment 2.8.23.csv'\n",
    "intermediate_file_path = '../code/data/intermediate post assessment 2.8.23.csv'\n",
    "advanced_file_path = '../code/data/Advanced post assessment 2.8.23.csv'\n",
    "\n",
    "# Load the datasets\n",
    "pre_data = pd.read_csv(pre_file_path)\n",
    "post_data_foundational = pd.read_csv(foundational_file_path,skiprows =lambda x: x in [1,2])\n",
    "post_data_intermediate = pd.read_csv(intermediate_file_path,skiprows =lambda x: x in [1,2])\n",
    "post_data_advanced = pd.read_csv(advanced_file_path,skiprows =lambda x: x in [1,2])\n"
   ]
  },
  {
   "cell_type": "code",
   "execution_count": 4,
   "id": "1e55a2e6-4fbf-4360-af5c-9f832c7f43bc",
   "metadata": {},
   "outputs": [],
   "source": [
    "#merge pre to foundational post, where scox = pre score, scoy = post score\n",
    "joined_data_foundational = pd.merge(post_data_foundational, pre_data, on = \"IPAddress\", how = \"left\")\n",
    "joined_data_intermediate = pd.merge(post_data_intermediate, pre_data, on = \"IPAddress\", how = \"left\")\n",
    "joined_data_advanced = pd.merge(post_data_advanced, pre_data, on = \"IPAddress\", how = \"left\")\n"
   ]
  },
  {
   "cell_type": "markdown",
   "id": "bfd30fa5-4fe5-47a6-9dc1-f93d37b03d69",
   "metadata": {},
   "source": [
    "## Rename Columns"
   ]
  },
  {
   "cell_type": "code",
   "execution_count": 5,
   "id": "533e41d0-6cef-41c7-b20a-af60f406124e",
   "metadata": {},
   "outputs": [],
   "source": [
    "#renaming the columns, SC0y = pre, SC0x = post for clarity:\n",
    "foundational_data = joined_data_foundational.rename(columns={'SC0_y':'Pre', 'SC0_x':'Post'})\n",
    "#drop missing data from Pre and Post\n",
    "foundational_data = foundational_data.dropna(subset=['Pre', 'Post'])\n",
    "\n",
    "#do the same for two other cohorts\n",
    "intermediate_data = joined_data_intermediate.rename(columns={'SC0_y':'Pre', 'SC0_x':'Post'})\n",
    "intermediate_data = intermediate_data.dropna(subset=['Pre', 'Post'])\n",
    "\n",
    "advanced_data = joined_data_advanced.rename(columns={'SC0_y':'Pre', 'SC0_x':'Post'})\n",
    "advanced_data = advanced_data.dropna(subset=['Pre', 'Post'])"
   ]
  },
  {
   "cell_type": "markdown",
   "id": "b8410604-d7f1-4cce-b0f1-bc900ad09cd5",
   "metadata": {},
   "source": [
    "# Analysis"
   ]
  },
  {
   "cell_type": "markdown",
   "id": "81f2d039-6c87-4286-aec9-4c540007e94c",
   "metadata": {},
   "source": [
    "## Paired t-test"
   ]
  },
  {
   "cell_type": "code",
   "execution_count": 6,
   "id": "4af2027c-66e7-45b4-ae71-911c07be326b",
   "metadata": {},
   "outputs": [
    {
     "name": "stdout",
     "output_type": "stream",
     "text": [
      "Foundational paired t-test:\n",
      "TtestResult(statistic=18.459663693401062, pvalue=1.0, df=38)\n",
      "Intermediate paired t-test:\n",
      "TtestResult(statistic=10.813765919832317, pvalue=0.9999999986777756, df=18)\n",
      "Advanced paired t-test:\n",
      "TtestResult(statistic=-4.091683222828099, pvalue=0.00010399393388526066, df=39)\n"
     ]
    }
   ],
   "source": [
    "#remove any missing values, and convert the data to int\n",
    "foundational_stat_data=foundational_data[['Pre','Post']].dropna().astype(int)\n",
    "print('Foundational paired t-test:')\n",
    "#conduct a paired t-test to determine if the post-training scores are statistically less than the pre-training scores.\n",
    "#this tests the hypothesis that the training has led to improvement in scores.\n",
    "print(stats.ttest_rel(foundational_stat_data['Pre'],foundational_stat_data['Post'],alternative='less'))\n",
    "\n",
    "#repeat for other cohorts\n",
    "intermediate_stat_data=intermediate_data[['Pre','Post']].dropna().astype(int)\n",
    "print('Intermediate paired t-test:')\n",
    "print(stats.ttest_rel(intermediate_stat_data['Pre'],intermediate_stat_data['Post'],alternative='less'))\n",
    "\n",
    "advanced_stat_data=advanced_data[['Pre','Post']].dropna().astype(int)\n",
    "print('Advanced paired t-test:')\n",
    "print(stats.ttest_rel(advanced_stat_data['Pre'],advanced_stat_data['Post'],alternative='less'))\n"
   ]
  }
 ],
 "metadata": {
  "kernelspec": {
   "display_name": "Python 3 (ipykernel)",
   "language": "python",
   "name": "python3"
  },
  "language_info": {
   "codemirror_mode": {
    "name": "ipython",
    "version": 3
   },
   "file_extension": ".py",
   "mimetype": "text/x-python",
   "name": "python",
   "nbconvert_exporter": "python",
   "pygments_lexer": "ipython3",
   "version": "3.11.7"
  }
 },
 "nbformat": 4,
 "nbformat_minor": 5
}
