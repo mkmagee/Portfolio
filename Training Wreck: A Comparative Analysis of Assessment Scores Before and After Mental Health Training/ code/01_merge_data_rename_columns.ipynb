{
 "cells": [
  {
   "cell_type": "code",
   "execution_count": 1,
   "id": "8323c29f-bb9a-41cf-aa91-65190273e897",
   "metadata": {},
   "outputs": [],
   "source": [
    "#import packages\n",
    "import pandas as pd\n",
    "import numpy as np\n",
    "import random\n",
    "import re\n",
    "import string\n",
    "#import requests\n",
    "#import plotnine \n",
    "#from plotnine import *\n",
    "import matplotlib.pyplot as plt\n",
    "import seaborn as sns\n",
    "import scipy.stats as stats\n",
    "\n",
    "#may need to pip install first\n",
    "#!pip install netwulf\n",
    "from netwulf import visualize\n",
    "import netwulf as nw\n",
    "import networkx as nx\n"
   ]
  },
  {
   "cell_type": "markdown",
   "id": "a24f9fa1-a06a-4b58-a811-3694e1759e12",
   "metadata": {},
   "source": [
    "# Data Prep"
   ]
  },
  {
   "cell_type": "markdown",
   "id": "8be30d25-12e6-4529-a5fb-62dbb3569d89",
   "metadata": {},
   "source": [
    "## Load in Data"
   ]
  },
  {
   "cell_type": "code",
   "execution_count": 2,
   "id": "b093fff5-3761-4bff-972b-35284789f728",
   "metadata": {},
   "outputs": [],
   "source": [
    "# Define the file path\n",
    "pre_file_path = '../code/data/Med student pre assessment 2.8.23.csv'\n",
    "foundational_file_path = '../code/data/Foundational Post Assessment 2.8.23.csv'\n",
    "intermediate_file_path = '../code/data/intermediate post assessment 2.8.23.csv'\n",
    "advanced_file_path = '../code/data/Advanced post assessment 2.8.23.csv'\n",
    "\n",
    "# Load the datasets using pandas\n",
    "pre_data = pd.read_csv(pre_file_path)\n",
    "post_data_foundational = pd.read_csv(foundational_file_path,skiprows =lambda x: x in [1,2])\n",
    "post_data_intermediate = pd.read_csv(intermediate_file_path,skiprows =lambda x: x in [1,2])\n",
    "post_data_advanced = pd.read_csv(advanced_file_path,skiprows =lambda x: x in [1,2])\n"
   ]
  },
  {
   "cell_type": "markdown",
   "id": "865b82ac-1909-49bf-8ab0-6f23e1e02b49",
   "metadata": {},
   "source": [
    "## Merge Data"
   ]
  },
  {
   "cell_type": "code",
   "execution_count": 3,
   "id": "1e55a2e6-4fbf-4360-af5c-9f832c7f43bc",
   "metadata": {},
   "outputs": [],
   "source": [
    "#merge pre to foundational post, where scox = pre score, scoy = post score\n",
    "joined_data_foundational = pd.merge(post_data_foundational, pre_data, on = \"IPAddress\", how = \"left\")\n",
    "joined_data_intermediate = pd.merge(post_data_intermediate, pre_data, on = \"IPAddress\", how = \"left\")\n",
    "joined_data_advanced = pd.merge(post_data_advanced, pre_data, on = \"IPAddress\", how = \"left\")\n"
   ]
  },
  {
   "cell_type": "markdown",
   "id": "5820bcc1-86a9-4971-b7a1-03d8b0cee8a0",
   "metadata": {},
   "source": [
    "## Rename columns"
   ]
  },
  {
   "cell_type": "code",
   "execution_count": 4,
   "id": "f8029a90-4b8f-43a6-85fc-c30da1f205b7",
   "metadata": {},
   "outputs": [],
   "source": [
    "#renaming the columns, SC0y = pre, SC0x = post for clarity:\n",
    "foundational_data = joined_data_foundational.rename(columns={'SC0_y':'Pre', 'SC0_x':'Post'})\n",
    "#drop missing data from Pre and Post\n",
    "foundational_data = foundational_data.dropna(subset=['Pre', 'Post'])\n",
    "\n",
    "#do the same for two other cohorts\n",
    "intermediate_data = joined_data_intermediate.rename(columns={'SC0_y':'Pre', 'SC0_x':'Post'})\n",
    "intermediate_data = intermediate_data.dropna(subset=['Pre', 'Post'])\n",
    "\n",
    "advanced_data = joined_data_advanced.rename(columns={'SC0_y':'Pre', 'SC0_x':'Post'})\n",
    "advanced_data = advanced_data.dropna(subset=['Pre', 'Post'])"
   ]
  }
 ],
 "metadata": {
  "kernelspec": {
   "display_name": "Python 3 (ipykernel)",
   "language": "python",
   "name": "python3"
  },
  "language_info": {
   "codemirror_mode": {
    "name": "ipython",
    "version": 3
   },
   "file_extension": ".py",
   "mimetype": "text/x-python",
   "name": "python",
   "nbconvert_exporter": "python",
   "pygments_lexer": "ipython3",
   "version": "3.11.7"
  }
 },
 "nbformat": 4,
 "nbformat_minor": 5
}
