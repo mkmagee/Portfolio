{
 "cells": [
  {
   "cell_type": "code",
   "execution_count": null,
   "id": "e92f5b48-a401-4e3f-a4ba-7083b304a75e",
   "metadata": {},
   "outputs": [],
   "source": [
    "#import packages\n",
    "import pandas as pd\n",
    "import numpy as np\n",
    "import random\n",
    "import re\n",
    "import string\n",
    "#import requests\n",
    "#import plotnine \n",
    "#from plotnine import *\n",
    "import matplotlib.pyplot as plt\n",
    "import seaborn as sns\n",
    "import scipy.stats as stats\n"
   ]
  },
  {
   "cell_type": "markdown",
   "id": "b3a34bb7-2c62-467b-9f82-098a74b7b57c",
   "metadata": {},
   "source": [
    "# Load in data"
   ]
  },
  {
   "cell_type": "code",
   "execution_count": null,
   "id": "db8e7ac7-df52-43cc-96b9-b63dae835924",
   "metadata": {},
   "outputs": [],
   "source": [
    "# Define the file path\n",
    "pre_file_path = '../code/data/Med student pre assessment 2.8.23.csv'\n",
    "foundational_file_path = '../code/data/Foundational Post Assessment 2.8.23.csv'\n",
    "intermediate_file_path = '../code/data/intermediate post assessment 2.8.23.csv'\n",
    "advanced_file_path = '../code/data/Advanced post assessment 2.8.23.csv'\n",
    "\n",
    "# Load the datasets\n",
    "pre_data = pd.read_csv(pre_file_path)\n",
    "post_data_foundational = pd.read_csv(foundational_file_path,skiprows =lambda x: x in [1,2])\n",
    "post_data_intermediate = pd.read_csv(intermediate_file_path,skiprows =lambda x: x in [1,2])\n",
    "post_data_advanced = pd.read_csv(advanced_file_path,skiprows =lambda x: x in [1,2])\n"
   ]
  }
 ],
 "metadata": {
  "kernelspec": {
   "display_name": "Python 3 (ipykernel)",
   "language": "python",
   "name": "python3"
  },
  "language_info": {
   "codemirror_mode": {
    "name": "ipython",
    "version": 3
   },
   "file_extension": ".py",
   "mimetype": "text/x-python",
   "name": "python",
   "nbconvert_exporter": "python",
   "pygments_lexer": "ipython3",
   "version": "3.11.7"
  }
 },
 "nbformat": 4,
 "nbformat_minor": 5
}
